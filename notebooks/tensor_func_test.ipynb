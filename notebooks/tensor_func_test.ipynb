{
 "cells": [
  {
   "cell_type": "code",
   "execution_count": 33,
   "metadata": {},
   "outputs": [
    {
     "name": "stdout",
     "output_type": "stream",
     "text": [
      "[[-1.]\n",
      " [ 1.]\n",
      " [ 2.]\n",
      " [ 3.]]\n",
      "[[ 1.   2. ]\n",
      " [ 1.5  3.5]\n",
      " [ 0.5  2.1]\n",
      " [ 1.3  4.5]]\n",
      "[[ 1.5]\n",
      " [ 2.6]\n",
      " [ 3.5]\n",
      " [ 0.6]]\n",
      "[[ 2.5 -1.5]\n",
      " [ 3.6  1.3]\n",
      " [-1.5  2. ]]\n",
      "2.5 [ 3.6  1.3]\n"
     ]
    }
   ],
   "source": [
    "import numpy as np\n",
    "\n",
    "\n",
    "b = np.array([-1.0, 1.0, 2.0, 3.0]).reshape((4, 1))\n",
    "w = np.array([1.0, 2.0, 1.5, 3.5, 0.5, 2.1, 1.3, 4.5]).reshape((4, 2))\n",
    "v = np.array([1.5, 2.6, 3.5, 0.6]).reshape((4,1))\n",
    "x = np.array([2.5, -1.5, 3.6, 1.3, -1.5, 2.0]).reshape((3,2))\n",
    "y = np.array([9.1, 3.2, 6.3]).reshape((3,1))\n",
    "print(b)\n",
    "print(w)\n",
    "print(v)\n",
    "print(x)\n",
    "print(x[0, 0], x[1])"
   ]
  },
  {
   "cell_type": "code",
   "execution_count": 7,
   "metadata": {},
   "outputs": [
    {
     "data": {
      "text/plain": [
       "0.76159415595576485"
      ]
     },
     "execution_count": 7,
     "metadata": {},
     "output_type": "execute_result"
    }
   ],
   "source": [
    "np.tanh(1.0)"
   ]
  },
  {
   "cell_type": "code",
   "execution_count": 34,
   "metadata": {},
   "outputs": [
    {
     "name": "stdout",
     "output_type": "stream",
     "text": [
      "##\n",
      "1.0 * 2.5\n",
      "2.0 * -1.5\n",
      "g( -0.5 - -1.0 )\n",
      "1.5 * g  0.244918662404\n",
      "1.5 * 2.5\n",
      "3.5 * -1.5\n",
      "g( -1.5 - 1.0 )\n",
      "2.6 * g  -0.848283639958\n",
      "0.5 * 2.5\n",
      "2.1 * -1.5\n",
      "g( -1.9 - 2.0 )\n",
      "3.5 * g  -0.960319388532\n",
      "1.3 * 2.5\n",
      "4.5 * -1.5\n",
      "g( -3.5 - 3.0 )\n",
      "0.6 * g  -0.996997635487\n",
      "f(x0)= -5.79747591144\n",
      "-5.79747591144 - 9.1 = -14.8974759114\n",
      "-5.79747591144 - 9.1 = 221.934788532\n",
      "##\n",
      "1.0 * 3.6\n",
      "2.0 * 1.3\n",
      "g( 6.2 - -1.0 )\n",
      "1.5 * g  0.998507942332\n",
      "1.5 * 3.6\n",
      "3.5 * 1.3\n",
      "g( 9.95 - 1.0 )\n",
      "2.6 * g  0.999740559339\n",
      "0.5 * 3.6\n",
      "2.1 * 1.3\n",
      "g( 4.53 - 2.0 )\n",
      "3.5 * g  0.852436706795\n",
      "1.3 * 3.6\n",
      "4.5 * 1.3\n",
      "g( 10.53 - 3.0 )\n",
      "0.6 * g  0.998927099353\n",
      "f(x1)= 7.67997210117\n",
      "7.67997210117 - 3.2 = 4.47997210117\n",
      "7.67997210117 - 3.2 = 20.0701500273\n",
      "##\n",
      "1.0 * -1.5\n",
      "2.0 * 2.0\n",
      "g( 2.5 - -1.0 )\n",
      "1.5 * g  0.941375538497\n",
      "1.5 * -1.5\n",
      "3.5 * 2.0\n",
      "g( 4.75 - 1.0 )\n",
      "2.6 * g  0.95404526018\n",
      "0.5 * -1.5\n",
      "2.1 * 2.0\n",
      "g( 3.45 - 2.0 )\n",
      "3.5 * g  0.619996867969\n",
      "1.3 * -1.5\n",
      "4.5 * 2.0\n",
      "g( 7.05 - 3.0 )\n",
      "0.6 * g  0.965751933369\n",
      "f(x2)= 6.64202118213\n",
      "6.64202118213 - 6.3 = 0.342021182128\n",
      "6.64202118213 - 6.3 = 0.116978489024\n",
      "40.3536528414\n"
     ]
    }
   ],
   "source": [
    "def g(t):\n",
    "    return np.tanh(t/2)\n",
    "\n",
    "N = 4\n",
    "n = 2\n",
    "P = 3\n",
    "\n",
    "result = 0\n",
    "\n",
    "for k in range(P):\n",
    "    print(\"##\")\n",
    "    all_sum = 0\n",
    "    for j in range(N):\n",
    "        m_sum = 0\n",
    "        for i in range(n):\n",
    "            print(w[j,i],\"*\",x[k, i])\n",
    "            m_sum += w[j, i]*x[k, i]\n",
    "        print(\"g(\",m_sum,\"-\", b[j, 0],\")\")\n",
    "        m_sum = g(m_sum-b[j, 0])\n",
    "        print(v[j,0],\"* g \",m_sum)\n",
    "        all_sum += v[j, 0]*m_sum\n",
    "    print(\"f(x{})=\".format(k), all_sum)\n",
    "    print(all_sum,\"-\", y[k, 0], \"=\", all_sum-y[k, 0])\n",
    "    value = (all_sum-y[k, 0])**2\n",
    "    print(all_sum,\"-\", y[k, 0], \"=\", value)\n",
    "    result += value\n",
    "\n",
    "print((1.0/(2.0*P)*result))\n",
    "    \n",
    "    \n",
    "all_sum\n",
    "\n",
    "y = 9.1"
   ]
  },
  {
   "cell_type": "code",
   "execution_count": 35,
   "metadata": {},
   "outputs": [
    {
     "name": "stdout",
     "output_type": "stream",
     "text": [
      "[[ 2.5        -1.5       ]\n",
      " [ 3.5999999   1.29999995]\n",
      " [-1.5         2.        ]]\n",
      "[[ 0.24491866 -0.84828371 -0.96031934 -0.99699771]\n",
      " [ 0.99850798  0.99974054  0.85243672  0.99892718]\n",
      " [ 0.94137555  0.95404524  0.61999685  0.96575201]]\n",
      "[[-5.79747581  7.67997217  6.6420207 ]]\n",
      "[[ 9.10000038]\n",
      " [ 3.20000005]\n",
      " [ 6.30000019]]\n",
      "[[-5.79747581  7.67997217  6.6420207 ]]\n",
      "[[ 9.10000038  3.20000005  6.30000019]]\n",
      "[[  2.21934799e+02   2.00701485e+01   1.16978027e-01]]\n",
      "40.3537\n"
     ]
    }
   ],
   "source": [
    "import tensorflow as tf\n",
    "\n",
    "b = tf.constant([-1.0, 1.0, 2.0, 3.0], shape=[4, 1])\n",
    "w = tf.constant([1.0, 2.0, 1.5, 3.5, 0.5, 2.1, 1.3, 4.5], shape=[4, 2])\n",
    "v = tf.constant([1.5, 2.6, 3.5, 0.6], shape=[4, 1])\n",
    "x = tf.constant([2.5, -1.5, 3.6, 1.3, -1.5, 2.0], shape=[3, 2])\n",
    "y = tf.constant([9.1, 3.2, 6.3], shape=[3,1])\n",
    "\n",
    "mm = tf.tanh(tf.subtract(tf.matmul(x, w, transpose_b=True), tf.transpose(b))/2.0)\n",
    "f = tf.matmul(tf.transpose(v),tf.transpose(mm))\n",
    "s_d = tf.squared_difference(f, tf.transpose(y))\n",
    "r_m = tf.reduce_mean(s_d)/2.0\n",
    "\n",
    "with tf.Session() as sess:\n",
    "    print(sess.run(x))\n",
    "    print(sess.run(mm))\n",
    "    print(sess.run(f))\n",
    "    print(sess.run(y))\n",
    "    print(sess.run(f))\n",
    "    print(sess.run(tf.transpose(y)))\n",
    "    print(sess.run(s_d))\n",
    "    print(sess.run(r_m))"
   ]
  },
  {
   "cell_type": "code",
   "execution_count": 29,
   "metadata": {},
   "outputs": [
    {
     "data": {
      "text/plain": [
       "3.75"
      ]
     },
     "execution_count": 29,
     "metadata": {},
     "output_type": "execute_result"
    }
   ],
   "source": [
    "import tensorflow as tf\n",
    "\n",
    "b = tf.constant([-1.0, 1.0, 2.0, 3.0], shape=[4, 1])\n",
    "w = tf.constant([1.0, 2.0, 1.5, 3.5, 0.5, 2.1, 1.3, 4.5], shape=[4, 2])\n",
    "v = tf.constant([1.5, 2.6, 3.5, 0.6], shape=[4, 1])\n",
    "x = tf.constant([2.5, -1.5, 3.6, 1.3, -1.5, 2.0], shape=[3, 2])\n",
    "y = tf.constant([9.1, 3.2, 6.3], shape=[3,1])\n",
    "\n",
    "mm = tf.tanh(tf.subtract(tf.matmul(x, w, transpose_b=True), tf.transpose(b))/2.0)\n",
    "f = tf.matmul(tf.transpose(v),tf.transpose(mm))\n",
    "s_d = tf.squared_difference(f, tf.transpose(y))\n",
    "r_m = tf.reduce_mean(s_d)/2.0\n",
    "\n",
    "with tf.Session() as sess:\n",
    "    print(sess.run(x))\n",
    "    print(sess.run(mm))\n",
    "    print(sess.run(f))\n",
    "    print(sess.run(y))\n",
    "    print(sess.run(f))\n",
    "    print(sess.run(tf.transpose(y)))\n",
    "    print(sess.run(s_d))\n",
    "    print(sess.run(r_m))"
   ]
  },
  {
   "cell_type": "code",
   "execution_count": 30,
   "metadata": {},
   "outputs": [
    {
     "data": {
      "text/plain": [
       "-5.25"
      ]
     },
     "execution_count": 30,
     "metadata": {},
     "output_type": "execute_result"
    }
   ],
   "source": [
    "-1.5*3.5"
   ]
  },
  {
   "cell_type": "code",
   "execution_count": 31,
   "metadata": {},
   "outputs": [
    {
     "data": {
      "text/plain": [
       "-1.5"
      ]
     },
     "execution_count": 31,
     "metadata": {},
     "output_type": "execute_result"
    }
   ],
   "source": [
    "3.75-5.25"
   ]
  },
  {
   "cell_type": "code",
   "execution_count": 32,
   "metadata": {},
   "outputs": [
    {
     "data": {
      "text/plain": [
       "-1.9000000000000004"
      ]
     },
     "execution_count": 32,
     "metadata": {},
     "output_type": "execute_result"
    }
   ],
   "source": [
    "2.5*0.5-1.5*2.1"
   ]
  },
  {
   "cell_type": "code",
   "execution_count": 33,
   "metadata": {},
   "outputs": [
    {
     "data": {
      "text/plain": [
       "-3.5"
      ]
     },
     "execution_count": 33,
     "metadata": {},
     "output_type": "execute_result"
    }
   ],
   "source": [
    "2.5*1.3-1.5*4.5"
   ]
  },
  {
   "cell_type": "code",
   "execution_count": null,
   "metadata": {
    "collapsed": true
   },
   "outputs": [],
   "source": [
    ""
   ]
  }
 ],
 "metadata": {
  "kernelspec": {
   "display_name": "Python 2",
   "language": "python",
   "name": "python2"
  },
  "language_info": {
   "codemirror_mode": {
    "name": "ipython",
    "version": 2
   },
   "file_extension": ".py",
   "mimetype": "text/x-python",
   "name": "python",
   "nbconvert_exporter": "python",
   "pygments_lexer": "ipython2",
   "version": "2.7.13"
  }
 },
 "nbformat": 4,
 "nbformat_minor": 0
}
